{
 "cells": [
  {
   "cell_type": "code",
   "execution_count": null,
   "id": "6b7bdaf3",
   "metadata": {},
   "outputs": [],
   "source": []
  },
  {
   "cell_type": "code",
   "execution_count": 5,
   "id": "9b7fcb3f",
   "metadata": {},
   "outputs": [
    {
     "name": "stdout",
     "output_type": "stream",
     "text": [
      "[[0.89729727 0.25183514 0.14213832]\n",
      " [0.14731278 0.21453822 0.91808622]\n",
      " [0.56980947 0.87263014 0.22480164]]\n"
     ]
    }
   ],
   "source": [
    "import numpy as np\n",
    "n=np.random.random([3,3])\n",
    "print(n)"
   ]
  },
  {
   "cell_type": "code",
   "execution_count": 8,
   "id": "09921979",
   "metadata": {},
   "outputs": [
    {
     "name": "stdout",
     "output_type": "stream",
     "text": [
      "[[ 0.70710678 -0.70710678]\n",
      " [ 0.70710678  0.70710678]]\n",
      "[3. 1.]\n",
      "[[ 0.00000000e+00  7.07106781e-01  7.07106781e-01]\n",
      " [-5.55111512e-17 -7.07106781e-01  7.07106781e-01]\n",
      " [-1.00000000e+00  1.11022302e-16 -5.55111512e-17]]\n"
     ]
    }
   ],
   "source": [
    "a=np.array([[0,2,1],[0,1,2]])\n",
    "U,S,V=np.linalg.svd(a,full_matrices=True)\n",
    "print(U)\n",
    "print(S)\n",
    "print(V)"
   ]
  },
  {
   "cell_type": "code",
   "execution_count": null,
   "id": "c9b65c0d",
   "metadata": {},
   "outputs": [],
   "source": []
  },
  {
   "cell_type": "code",
   "execution_count": null,
   "id": "fce82828",
   "metadata": {},
   "outputs": [],
   "source": []
  }
 ],
 "metadata": {
  "kernelspec": {
   "display_name": "Python 3 (ipykernel)",
   "language": "python",
   "name": "python3"
  },
  "language_info": {
   "codemirror_mode": {
    "name": "ipython",
    "version": 3
   },
   "file_extension": ".py",
   "mimetype": "text/x-python",
   "name": "python",
   "nbconvert_exporter": "python",
   "pygments_lexer": "ipython3",
   "version": "3.9.12"
  }
 },
 "nbformat": 4,
 "nbformat_minor": 5
}
