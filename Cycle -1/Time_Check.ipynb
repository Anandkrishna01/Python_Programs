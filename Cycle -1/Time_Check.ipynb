{
 "cells": [
  {
   "cell_type": "code",
   "execution_count": 4,
   "id": "ff6ae808",
   "metadata": {},
   "outputs": [
    {
     "name": "stdout",
     "output_type": "stream",
     "text": [
      "Enter size of array:2\n",
      "3\n",
      "4\n",
      "2\n",
      "1\n",
      "[[3, 4], [2, 1]]\n",
      "5\n",
      "3\n",
      "2\n",
      "1\n",
      "[[5, 3], [2, 1]]\n",
      "Multiplication: [[23, 13], [12, 7]]\n",
      "Time taken by using for loop:  15.949505805969238\n",
      "[[23 13]\n",
      " [12  7]]\n",
      "Time taken by using numpy:  0.0012896060943603516\n"
     ]
    }
   ],
   "source": [
    "\n",
    "\n",
    "import time \n",
    "import numpy as np\n",
    "start=time.time()\n",
    "n=int(input(\"Enter size of array:\"))\n",
    "a=[]\n",
    "for i in range(0,n):\n",
    "    b=[]\n",
    "    for j in range(0,n):b.append(int(input()))\n",
    "    a.append(b)\n",
    "                 \n",
    "print(a)\n",
    "b=[]\n",
    "for i in range(0,n):\n",
    "    x=[]\n",
    "    for j in range(0,n):x.append(int(input()))\n",
    "    b.append(x)\n",
    "                 \n",
    "print(b)\n",
    "\n",
    "\n",
    "c=[]\n",
    "for i in range(0,n):\n",
    "    x=[]\n",
    "    for j in range(0,n):\n",
    "        temp=0    \n",
    "        for k in range(0,n):temp=temp+a[i][k]*b[k][j] \n",
    "        x.append(temp)\n",
    "    c.append(x)\n",
    "print(\"Multiplication:\",c)\n",
    "# print(c)\n",
    "\n",
    "print(\"Time taken by using for loop: \",time.time()-start)\n",
    "\n",
    "start=time.time()\n",
    "mul=np.matmul(a,b)\n",
    "print(mul)\n",
    "print(\"Time taken by using numpy: \",time.time()-start)"
   ]
  },
  {
   "cell_type": "code",
   "execution_count": null,
   "id": "f3edfe04",
   "metadata": {},
   "outputs": [],
   "source": [
    "\n",
    "\n",
    "\n"
   ]
  }
 ],
 "metadata": {
  "kernelspec": {
   "display_name": "Python 3 (ipykernel)",
   "language": "python",
   "name": "python3"
  },
  "language_info": {
   "codemirror_mode": {
    "name": "ipython",
    "version": 3
   },
   "file_extension": ".py",
   "mimetype": "text/x-python",
   "name": "python",
   "nbconvert_exporter": "python",
   "pygments_lexer": "ipython3",
   "version": "3.9.12"
  }
 },
 "nbformat": 4,
 "nbformat_minor": 5
}
