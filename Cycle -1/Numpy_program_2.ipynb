{
 "cells": [
  {
   "cell_type": "code",
   "execution_count": 1,
   "id": "559c1be0",
   "metadata": {},
   "outputs": [],
   "source": [
    "import numpy as np\n"
   ]
  },
  {
   "cell_type": "code",
   "execution_count": null,
   "id": "304233df",
   "metadata": {},
   "outputs": [],
   "source": []
  },
  {
   "cell_type": "code",
   "execution_count": 25,
   "id": "faede206",
   "metadata": {},
   "outputs": [
    {
     "name": "stdout",
     "output_type": "stream",
     "text": [
      "[ 1  2  3  4  5  6  7  8  9 10 11 12 13 14 15]\n",
      "size \n",
      "15\n",
      "Update its 8th element\n",
      "[ 1  2  3  4  5  6  7  2  9 10 11 12 13 14 15]\n",
      "Reverse the array\n",
      "[15 14 13 12 11 10  9  2  7  6  5  4  3  2  1]\n",
      "Convert it into 7 x 2 matrix \n",
      "[[ 1  2]\n",
      " [ 3  4]\n",
      " [ 5  6]\n",
      " [ 7  2]\n",
      " [ 9 10]\n",
      " [11 12]\n",
      " [13 14]]\n"
     ]
    }
   ],
   "source": [
    "array1=np.arange(1,16)\n",
    "print(array1)\n",
    "print(\"size \")\n",
    "print(array1.size)\n",
    "print(\"Update its 8th element\")\n",
    "array1[7]=2\n",
    "print(array1)\n",
    "print(\"Reverse the array\")\n",
    "print(array1[::-1])\n",
    "print(\"Convert it into 7 x 2 matrix \")\n",
    "array1.resize(7,2)\n",
    "print(array1)"
   ]
  },
  {
   "cell_type": "code",
   "execution_count": 26,
   "id": "8d3760dc",
   "metadata": {},
   "outputs": [
    {
     "name": "stdout",
     "output_type": "stream",
     "text": [
      "ranging from 22 to 42.\n",
      "[22 23 24 25 26 27 28 29 30 31 32 33 34 35 36 37 38 39 40 41 42]\n",
      "Shape\n",
      "(21,)\n"
     ]
    }
   ],
   "source": [
    "print(\"ranging from 22 to 42.\")\n",
    "array2=np.arange(22,43)\n",
    "print(array2)\n",
    "print(\"Shape\")\n",
    "print(array2.shape)\n",
    "\n"
   ]
  },
  {
   "cell_type": "code",
   "execution_count": 17,
   "id": "7ec0484c",
   "metadata": {},
   "outputs": [
    {
     "name": "stdout",
     "output_type": "stream",
     "text": [
      "[ 1  2  3  4  5  6  7  2  9 10 11 12 13 14 15]\n"
     ]
    }
   ],
   "source": []
  },
  {
   "cell_type": "code",
   "execution_count": 12,
   "id": "c91991a1",
   "metadata": {},
   "outputs": [
    {
     "data": {
      "text/plain": [
       "array([15, 14, 13, 12, 11, 10,  9,  2,  7,  6,  5,  4,  3,  2,  1])"
      ]
     },
     "execution_count": 12,
     "metadata": {},
     "output_type": "execute_result"
    }
   ],
   "source": []
  },
  {
   "cell_type": "code",
   "execution_count": 18,
   "id": "eb217ab5",
   "metadata": {},
   "outputs": [
    {
     "name": "stdout",
     "output_type": "stream",
     "text": [
      "[[ 1  2]\n",
      " [ 3  4]\n",
      " [ 5  6]\n",
      " [ 7  2]\n",
      " [ 9 10]\n",
      " [11 12]\n",
      " [13 14]]\n"
     ]
    }
   ],
   "source": []
  },
  {
   "cell_type": "code",
   "execution_count": 1,
   "id": "a5835551",
   "metadata": {},
   "outputs": [
    {
     "name": "stdout",
     "output_type": "stream",
     "text": [
      "[[1 1 0 0 1 1 0 0]\n",
      " [0 0 1 1 0 0 1 1]\n",
      " [1 1 0 0 1 1 0 0]\n",
      " [0 0 1 1 0 0 1 1]\n",
      " [1 1 0 0 1 1 0 0]\n",
      " [0 0 1 1 0 0 1 1]\n",
      " [1 1 0 0 1 1 0 0]\n",
      " [0 0 1 1 0 0 1 1]]\n"
     ]
    }
   ],
   "source": [
    "import numpy as np\n",
    "arr=np.zeros((8,8),dtype=\"int\")\n",
    "# print(arr)\n",
    "arr[::2,::4]=1\n",
    "arr[::2,1::4]=1\n",
    "arr[1::2,3::4]=1\n",
    "arr[1::2,2::4]=1\n",
    "print(arr)"
   ]
  }
 ],
 "metadata": {
  "kernelspec": {
   "display_name": "Python 3 (ipykernel)",
   "language": "python",
   "name": "python3"
  },
  "language_info": {
   "codemirror_mode": {
    "name": "ipython",
    "version": 3
   },
   "file_extension": ".py",
   "mimetype": "text/x-python",
   "name": "python",
   "nbconvert_exporter": "python",
   "pygments_lexer": "ipython3",
   "version": "3.9.12"
  }
 },
 "nbformat": 4,
 "nbformat_minor": 5
}
