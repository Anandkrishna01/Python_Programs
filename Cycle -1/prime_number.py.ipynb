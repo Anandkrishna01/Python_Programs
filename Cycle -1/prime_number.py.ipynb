{
 "cells": [
  {
   "cell_type": "code",
   "execution_count": 2,
   "id": "ecfcca67",
   "metadata": {},
   "outputs": [
    {
     "name": "stdout",
     "output_type": "stream",
     "text": [
      "Enter your input:3\n",
      "Prime number\n"
     ]
    }
   ],
   "source": [
    "def prime_num(x):\n",
    "    flag=True\n",
    "    for i in range(2,x//2+1):\n",
    "        if(x%i==0):\n",
    "            flag=False\n",
    "            break\n",
    "    if(flag):print(\"Prime number\")\n",
    "    else:print(\"Not Prime number\")\n",
    "        \n",
    "# prime_num(2)\n",
    "# prime_num(5)\n",
    "# prime_num(6)\n",
    "# prime_num(8)\n",
    "a=int(input(\"Enter your input:\"))\n",
    "prime_num(a)\n",
    "    "
   ]
  },
  {
   "cell_type": "code",
   "execution_count": 3,
   "id": "2410175e",
   "metadata": {},
   "outputs": [
    {
     "name": "stdout",
     "output_type": "stream",
     "text": [
      "Enter size of array5\n",
      "1\n",
      "2\n",
      "4\n",
      "4\n",
      "5\n",
      "enter element to remove:4\n"
     ]
    },
    {
     "data": {
      "text/plain": [
       "[1, 2, 5]"
      ]
     },
     "execution_count": 3,
     "metadata": {},
     "output_type": "execute_result"
    }
   ],
   "source": [
    "def removeItem(x,arr):\n",
    "    for i in arr:\n",
    "        if x in arr:arr.remove(x)\n",
    "    return arr\n",
    "# arr=[1,2,3,2,5]\n",
    "# print(removeItem(2,arr))\n",
    "arr=[]\n",
    "size=int(input(\"Enter size of array\"))\n",
    "for i in range(0,size):\n",
    "    arr.append(int(input()))\n",
    "x=int(input(\"enter element to remove:\"))\n",
    "removeItem(x,arr)"
   ]
  },
  {
   "cell_type": "code",
   "execution_count": 4,
   "id": "99395de7",
   "metadata": {},
   "outputs": [
    {
     "name": "stdout",
     "output_type": "stream",
     "text": [
      "Enter the string:Hi hello hey Hi hey\n",
      "['Hi', 'hello', 'hey', 'Hi', 'hey']\n"
     ]
    },
    {
     "data": {
      "text/plain": [
       "{'hi': 2, 'hello': 1, 'hey': 2}"
      ]
     },
     "execution_count": 4,
     "metadata": {},
     "output_type": "execute_result"
    }
   ],
   "source": [
    "def countOccurance(str1):\n",
    "    list1=str1.split(\" \")\n",
    "    map1={}\n",
    "    print(list1)\n",
    "    for i in list1:\n",
    "        i=i.lower()\n",
    "        if i in map1:\n",
    "            map1[i]=map1.get(i)+1\n",
    "        else :\n",
    "            map1[i]=1\n",
    "    return map1\n",
    "    \n",
    "# str1=\"hi hello hello HI\"\n",
    "# countOccurance(str1)\n",
    "str1=input(\"Enter the string:\")\n",
    "countOccurance(str1)"
   ]
  },
  {
   "cell_type": "code",
   "execution_count": 6,
   "id": "bdb5e4dd",
   "metadata": {},
   "outputs": [
    {
     "name": "stdout",
     "output_type": "stream",
     "text": [
      "Enter size of array:2\n",
      "2\n",
      "1\n",
      "1\n",
      "2\n",
      "[[2, 1], [1, 2]]\n",
      "1\n",
      "2\n",
      "3\n",
      "4\n",
      "[[1, 2], [3, 4]]\n",
      "Add\n",
      "[[3, 3], [4, 6]]\n",
      "Mul\n",
      "[[5, 8], [7, 10]]\n"
     ]
    }
   ],
   "source": [
    "n=int(input(\"Enter size of array:\"))\n",
    "a=[]\n",
    "for i in range(0,n):\n",
    "    b=[]\n",
    "    for j in range(0,n):\n",
    "        b.append(int(input()))\n",
    "    a.append(b)\n",
    "                 \n",
    "print(a)\n",
    "b=[]\n",
    "for i in range(0,n):\n",
    "    x=[]\n",
    "    for j in range(0,n):\n",
    "        x.append(int(input()))\n",
    "    b.append(x)\n",
    "                 \n",
    "print(b)\n",
    "\n",
    "c=[]\n",
    "for i in range(0,n):\n",
    "    x=[]\n",
    "    for j in range(0,n):\n",
    "        x.append(a[i][j]+b[i][j])\n",
    "    c.append(x)\n",
    "print(\"Add\")\n",
    "print(c)\n",
    "c=[]\n",
    "for i in range(0,n):\n",
    "    x=[]\n",
    "    for j in range(0,n):\n",
    "        temp=0    \n",
    "        for k in range(0,n):\n",
    "            temp=temp+a[i][k]*b[k][j] \n",
    "        x.append(temp)\n",
    "    c.append(x)\n",
    "print(\"Mul\")\n",
    "print(c)\n",
    "\n"
   ]
  },
  {
   "cell_type": "code",
   "execution_count": null,
   "id": "a3bb457a",
   "metadata": {},
   "outputs": [],
   "source": []
  }
 ],
 "metadata": {
  "kernelspec": {
   "display_name": "Python 3 (ipykernel)",
   "language": "python",
   "name": "python3"
  },
  "language_info": {
   "codemirror_mode": {
    "name": "ipython",
    "version": 3
   },
   "file_extension": ".py",
   "mimetype": "text/x-python",
   "name": "python",
   "nbconvert_exporter": "python",
   "pygments_lexer": "ipython3",
   "version": "3.9.12"
  }
 },
 "nbformat": 4,
 "nbformat_minor": 5
}
