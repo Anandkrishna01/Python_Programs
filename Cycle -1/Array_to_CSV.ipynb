{
 "cells": [
  {
   "cell_type": "code",
   "execution_count": 27,
   "id": "50512eb6",
   "metadata": {},
   "outputs": [
    {
     "name": "stdout",
     "output_type": "stream",
     "text": [
      "[1 2 3 4 5]\n",
      "[[1 2 3]\n",
      " [5 6 7]]\n",
      "\n",
      "[[1 2 3]\n",
      " [5 6 7]]\n"
     ]
    }
   ],
   "source": [
    "import numpy as np\n",
    "a=np.array([1,2,3,4,5],dtype=np.int32)\n",
    "\n",
    "# a=np.arange(1,11)\n",
    "# a = a.astype('int64')\n",
    "print(a)\n",
    "np.savetxt('/home/mca/Desktop/TCR22MCA-2005/Cycle -1/file.txt',a,delimiter=\",\")\n",
    "x=np.array([[1,2,3],[5,6,7]])\n",
    "np.savetxt(\"/home/mca/Desktop/TCR22MCA-2005/Cycle -1/file1.txt\",x,fmt=\"%5d\",delimiter=\",\")\n",
    "np.savetxt(\"/home/mca/Desktop/TCR22MCA-2005/Cycle -1/file1.csv\",x,delimiter=\",\")\n",
    "\n",
    "y=np.loadtxt(open(\"/home/mca/Desktop/TCR22MCA-2005/Cycle -1/file1.txt\",\"rb\"),delimiter=\",\")\n",
    "print(y.astype('int64'))\n",
    "print()\n",
    "z=np.genfromtxt(\"/home/mca/Desktop/TCR22MCA-2005/Cycle -1/file1.txt\",delimiter=\",\")\n",
    "print(z.astype('int64'))"
   ]
  },
  {
   "cell_type": "code",
   "execution_count": null,
   "id": "47f167a0",
   "metadata": {},
   "outputs": [],
   "source": []
  }
 ],
 "metadata": {
  "kernelspec": {
   "display_name": "Python 3 (ipykernel)",
   "language": "python",
   "name": "python3"
  },
  "language_info": {
   "codemirror_mode": {
    "name": "ipython",
    "version": 3
   },
   "file_extension": ".py",
   "mimetype": "text/x-python",
   "name": "python",
   "nbconvert_exporter": "python",
   "pygments_lexer": "ipython3",
   "version": "3.9.12"
  }
 },
 "nbformat": 4,
 "nbformat_minor": 5
}
